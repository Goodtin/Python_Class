{
  "nbformat": 4,
  "nbformat_minor": 0,
  "metadata": {
    "colab": {
      "provenance": [],
      "authorship_tag": "ABX9TyMVRICNXH3UAUctHp1JCUdl",
      "include_colab_link": true
    },
    "kernelspec": {
      "name": "python3",
      "display_name": "Python 3"
    },
    "language_info": {
      "name": "python"
    }
  },
  "cells": [
    {
      "cell_type": "markdown",
      "metadata": {
        "id": "view-in-github",
        "colab_type": "text"
      },
      "source": [
        "<a href=\"https://colab.research.google.com/github/Goodtin/Python_Class/blob/main/Untitled33.ipynb\" target=\"_parent\"><img src=\"https://colab.research.google.com/assets/colab-badge.svg\" alt=\"Open In Colab\"/></a>"
      ]
    },
    {
      "cell_type": "code",
      "execution_count": null,
      "metadata": {
        "id": "2IclKRCEVYX8"
      },
      "outputs": [],
      "source": [
        "# Convert X to Vector\n",
        "import numpy as np\n",
        "X = (2,5,1,6)\n",
        "X=np.array(X)\n",
        "x2= X+16\n",
        "print(x2)\n",
        "print(x2.shape) \n",
        "\n",
        "import numpy as np\n",
        "x=(2,5,1,6)\n",
        "y=(5,1)\n",
        "y=np.array(y)\n",
        "y= y + 3\n",
        "print(y)\n",
        "\n",
        "import numpy as np\n",
        "x=(2,5,1,6)\n",
        "x=np.array(x)\n",
        "Sqrt = np.sqrt(x)\n",
        "print(\"\\nSquare root of x elements: \")\n",
        "print(Sqrt)\n",
        "\n",
        "import numpy as np\n",
        "X = (2,5,1,6)\n",
        "X=np.array(X)\n",
        "x2= X**2\n",
        "print(x2)\n",
        "print(x2.shape)"
      ]
    }
  ]
}