{
  "nbformat": 4,
  "nbformat_minor": 0,
  "metadata": {
    "colab": {
      "provenance": [],
      "collapsed_sections": [],
      "include_colab_link": true
    },
    "kernelspec": {
      "name": "python3",
      "display_name": "Python 3"
    }
  },
  "cells": [
    {
      "cell_type": "markdown",
      "metadata": {
        "id": "view-in-github",
        "colab_type": "text"
      },
      "source": [
        "<a href=\"https://colab.research.google.com/github/Goodtin/Python_Class/blob/main/lab1.ipynb\" target=\"_parent\"><img src=\"https://colab.research.google.com/assets/colab-badge.svg\" alt=\"Open In Colab\"/></a>"
      ]
    },
    {
      "cell_type": "markdown",
      "metadata": {
        "id": "gWnW9ki8OKgf"
      },
      "source": [
        "# Dalhousie University\n",
        "# Master of Engineering in Internetworking\n",
        "\n",
        "# Lab1\n",
        "# Brief Tutorial to Scipy Libraries"
      ]
    },
    {
      "cell_type": "markdown",
      "metadata": {
        "id": "OsqE2ju_DDgW"
      },
      "source": [
        "# SciPy\n",
        "SciPy is a Python-based ecosystem of open-source software for mathematics, science, and engineering. In particular, these are some of the core packages:\n",
        "\n",
        "* NumPy: Base N-dimensional array package\n",
        "* SciPy library: Fundamental library for scientific computing\n",
        "* Matplotlib: Comprehensive 2-D plotting\n",
        "* IPython: Enhanced interactive console\n",
        "* SymPy: Symbolic mathematics\n",
        "* Pandas: Data structures & analysis\n",
        "\n",
        "In this lab and the next lab, we will be making use of the Numpy, Scipy, Matplotlib and Ipython Libraries.\n",
        "\n",
        "Reference: https://www.scipy.org/\n",
        "\n",
        "\n",
        "\n"
      ]
    },
    {
      "cell_type": "markdown",
      "metadata": {
        "id": "bX822NQDqN73"
      },
      "source": [
        "# Spyder IDE (Optional)\n",
        "Spyder is a free and open source scientific environment written in Python, for Python, and designed by and for scientists, engineers and data analysts. It features a unique combination of the advanced editing, analysis, debugging, and profiling functionality of a comprehensive development tool with the data exploration, interactive execution, deep inspection, and beautiful visualization capabilities of a scientific package.\n",
        "\n",
        "Reference: https://www.spyder-ide.org/\n",
        "\n",
        "For this lab, using Spyder is optional. You can follow the steps in this Ipython notebook or copy the code snippets and run in a Spyder environment."
      ]
    },
    {
      "cell_type": "markdown",
      "metadata": {
        "id": "_gyF1c0Q9_Cy"
      },
      "source": [
        "<hr>"
      ]
    },
    {
      "cell_type": "markdown",
      "metadata": {
        "id": "Aww1skOXqGmx"
      },
      "source": [
        "# Section 1: Brief Introduction to Numpy\n",
        "NumPy (short for Numerical Python) provides an efficient interface to store and operate on dense data buffers. In some ways, NumPy arrays are like Python's built-in list type, but NumPy arrays provide much more efficient storage and data operations as the arrays grow larger in size. NumPy arrays form the core of nearly the entire ecosystem of scientific and data science tools in Python, so time spent learning to use NumPy effectively will be valuable no matter what aspect of scientific field that interests you.\n",
        "\n",
        "Reference: https://numpy.org/\n"
      ]
    },
    {
      "cell_type": "markdown",
      "metadata": {
        "id": "9t_yB0yFDOeG"
      },
      "source": [
        "## 1.1\tDefinition of Vectors/Signals\n",
        "\n",
        "In Numpy you can represent ordinary one-dimensional sampled data signals, or sequences, as vectors. Vectors are 1-by-n or n-by-1 arrays, where n is the number of samples in the sequence. One way to introduce a sequence into a Numpy array is to pass a Python List has an argument into the array function\n",
        "\n"
      ]
    },
    {
      "cell_type": "code",
      "metadata": {
        "id": "AIOSufxRVRj9"
      },
      "source": [
        "# import numpy library\n",
        "import numpy as np"
      ],
      "execution_count": null,
      "outputs": []
    },
    {
      "cell_type": "code",
      "metadata": {
        "colab": {
          "base_uri": "https://localhost:8080/"
        },
        "id": "M2QnrwZ6Hf0M",
        "outputId": "6bb5dbfa-ad95-43bc-9d21-e5254ce43964"
      },
      "source": [
        "# Define a python List\n",
        "x_list = [4, 6, 8, 10, 12, 14]  \n",
        "\n",
        "# Convert Python list to Numpy Array\n",
        "x = np.array(x_list)\n",
        "\n",
        "# print vector x\n",
        "print(f\"Elements of X: {x}\")\n",
        "\n",
        "# check the size of vector\n",
        "print(f\"Shape of X: {x.shape}\")"
      ],
      "execution_count": null,
      "outputs": [
        {
          "output_type": "stream",
          "text": [
            "Elements: [ 4  6  8 10 12 14]\n",
            "Shape: (6,)\n"
          ],
          "name": "stdout"
        }
      ]
    },
    {
      "cell_type": "markdown",
      "metadata": {
        "id": "NH5DAD0cJL9c"
      },
      "source": [
        "Another common way to use the \"arange\" function.\n",
        "\n",
        "Run the command: `help(np.arange)` in your interpreter for more information."
      ]
    },
    {
      "cell_type": "code",
      "metadata": {
        "colab": {
          "base_uri": "https://localhost:8080/"
        },
        "id": "vLYEGppLW5u6",
        "outputId": "b0039564-7fc2-4c40-fdff-83a5da2d863c"
      },
      "source": [
        "# Create an array filled with a linear sequence\n",
        "# Starting at 0, ending at 20, stepping by 2\n",
        "# (this is similar to the built-in range() function)\n",
        "\n",
        "x = np.arange(4, 16, 2)\n",
        "\n",
        "# print vector x\n",
        "print(f\"Elements of x: {x}\")\n",
        "\n",
        "# check the size of vector\n",
        "print(f\"Shape of x: {x.shape}\")\n",
        "\n",
        "print(\"*****\"*10, end=\"\\n\")\n",
        "\n",
        "y = np.arange(0, 20, 2)\n",
        "\n",
        "# print vector x\n",
        "print(f\"Elements of y: {y}\")\n",
        "\n",
        "# check the size of vector\n",
        "print(f\"Shape of y: {y.shape}\")"
      ],
      "execution_count": null,
      "outputs": [
        {
          "output_type": "stream",
          "text": [
            "Elements of x: [ 4  6  8 10 12 14]\n",
            "Shape of x: (6,)\n",
            "**************************************************\n",
            "Elements of y: [ 0  2  4  6  8 10 12 14 16 18]\n",
            "Shape of y: (10,)\n"
          ],
          "name": "stdout"
        }
      ]
    },
    {
      "cell_type": "markdown",
      "metadata": {
        "id": "pf6MncPsXW9M"
      },
      "source": [
        "<hr>"
      ]
    },
    {
      "cell_type": "markdown",
      "metadata": {
        "id": "Do4n_8i2YHNn"
      },
      "source": [
        "## 1.2\tMaking long vectors\n",
        "Long vectors (e.g. signals) can be formed  by concatenating two shorter vectors.\n"
      ]
    },
    {
      "cell_type": "code",
      "metadata": {
        "colab": {
          "base_uri": "https://localhost:8080/"
        },
        "id": "ySNHfEMAYK2M",
        "outputId": "75e45c2d-f261-4a48-9d39-fd96f561256c"
      },
      "source": [
        "x = np.arange(4, 16, 2)\n",
        "\n",
        "# To concatenate along the rows:\n",
        "y = np.concatenate((x,x))  # the first argument must be a sequence data type (e.g tuple or list)\n",
        "\n",
        "print(y)\n",
        "print(y.shape)"
      ],
      "execution_count": null,
      "outputs": [
        {
          "output_type": "stream",
          "text": [
            "[ 4  6  8 10 12 14  4  6  8 10 12 14]\n",
            "(12,)\n"
          ],
          "name": "stdout"
        }
      ]
    },
    {
      "cell_type": "code",
      "metadata": {
        "colab": {
          "base_uri": "https://localhost:8080/"
        },
        "id": "PV5RTe6-cJ8n",
        "outputId": "0172ec0e-9fc8-4962-a4f7-036d42470a56"
      },
      "source": [
        "x = np.arange(4, 16, 2)\n",
        "\n",
        "# To concatenate along the rows:\n",
        "y = np.hstack((x,x))  # the first argument must be a sequence data type (e.g tuple or list)\n",
        "\n",
        "print(y)\n",
        "print(y.shape)"
      ],
      "execution_count": null,
      "outputs": [
        {
          "output_type": "stream",
          "text": [
            "[ 4  6  8 10 12 14  4  6  8 10 12 14]\n",
            "(12,)\n"
          ],
          "name": "stdout"
        }
      ]
    },
    {
      "cell_type": "code",
      "metadata": {
        "colab": {
          "base_uri": "https://localhost:8080/"
        },
        "id": "JlnPSh3vYex9",
        "outputId": "aae585ae-8d39-496a-ba06-e026afb5b090"
      },
      "source": [
        "x = np.arange(4, 16, 2)\n",
        "\n",
        "# To concatenate along the columns:\n",
        "y = np.vstack((x,x))  # the first argument must be a sequence data type (e.g tuple or list)\n",
        "\n",
        "print(y)\n",
        "print(y.shape) # new shape is now a Matrix!"
      ],
      "execution_count": null,
      "outputs": [
        {
          "output_type": "stream",
          "text": [
            "[[ 4  6  8 10 12 14]\n",
            " [ 4  6  8 10 12 14]]\n",
            "(2, 6)\n"
          ],
          "name": "stdout"
        }
      ]
    },
    {
      "cell_type": "markdown",
      "metadata": {
        "id": "v_MB7F1W8foT"
      },
      "source": [
        "<hr>"
      ]
    },
    {
      "cell_type": "markdown",
      "metadata": {
        "id": "0BhHlnJcZ3gP"
      },
      "source": [
        "## 1.3 Generating Matrices\n"
      ]
    },
    {
      "cell_type": "code",
      "metadata": {
        "colab": {
          "base_uri": "https://localhost:8080/"
        },
        "id": "V5k2Ib6Qao8i",
        "outputId": "74624044-d529-444e-e99c-ccb75779b5d3"
      },
      "source": [
        "#  Create a 3x3 Matrix\n",
        "A = np.array(([1, 2, 3,], [4, 5, 6], [7, 8, 9]))\n",
        "print(A, end=\"\\n\"*2)\n",
        "print(A.shape)"
      ],
      "execution_count": null,
      "outputs": [
        {
          "output_type": "stream",
          "text": [
            "[[1 2 3]\n",
            " [4 5 6]\n",
            " [7 8 9]]\n",
            "\n",
            "(3, 3)\n"
          ],
          "name": "stdout"
        }
      ]
    },
    {
      "cell_type": "code",
      "metadata": {
        "colab": {
          "base_uri": "https://localhost:8080/"
        },
        "id": "q_24Gs_wdrNb",
        "outputId": "c4c10519-3303-448f-9523-f322f7c831f4"
      },
      "source": [
        "# Create a 3x3 identity matrix\n",
        "B = np.eye(3, dtype=int) # dtype arguments is used to specify the data type of the array\n",
        "print(B, end=\"\\n\"*2)\n",
        "print(B.shape)"
      ],
      "execution_count": null,
      "outputs": [
        {
          "output_type": "stream",
          "text": [
            "[[1 0 0]\n",
            " [0 1 0]\n",
            " [0 0 1]]\n",
            "\n",
            "(3, 3)\n"
          ],
          "name": "stdout"
        }
      ]
    },
    {
      "cell_type": "code",
      "metadata": {
        "colab": {
          "base_uri": "https://localhost:8080/"
        },
        "id": "OTzAnuMbee8O",
        "outputId": "d2171012-56f4-4167-fb86-ad625393f04c"
      },
      "source": [
        "# Create a 2x3 array filled with ones\n",
        "C = np.ones(shape=(2,3), dtype=int) # dtype arguments is used to specify the data type of the array\n",
        "print(C, end=\"\\n\"*2)\n",
        "print(C.shape)"
      ],
      "execution_count": null,
      "outputs": [
        {
          "output_type": "stream",
          "text": [
            "[[1 1 1]\n",
            " [1 1 1]]\n",
            "\n",
            "(2, 3)\n"
          ],
          "name": "stdout"
        }
      ]
    },
    {
      "cell_type": "code",
      "metadata": {
        "colab": {
          "base_uri": "https://localhost:8080/"
        },
        "id": "Gc_Q2NF0fJAI",
        "outputId": "4cd0634d-cf7a-46b6-d6dd-83937f59cb84"
      },
      "source": [
        "# Create a 3x2 array filled with zeros\n",
        "D = np.zeros(shape=(3,2), dtype=int) # dtype arguments is used to specify the data type of the array\n",
        "print(D, end=\"\\n\"*2)\n",
        "print(D.shape)"
      ],
      "execution_count": null,
      "outputs": [
        {
          "output_type": "stream",
          "text": [
            "[[0 0]\n",
            " [0 0]\n",
            " [0 0]]\n",
            "\n",
            "(3, 2)\n"
          ],
          "name": "stdout"
        }
      ]
    },
    {
      "cell_type": "code",
      "metadata": {
        "colab": {
          "base_uri": "https://localhost:8080/"
        },
        "id": "RGQDAKIaflYH",
        "outputId": "4ee2283a-9d67-47ca-a94e-27372e122875"
      },
      "source": [
        "# Create a 1x5 array of uniformly distributed\n",
        "# random values between 0 and 1\n",
        "E = np.random.random((1, 5))\n",
        "print(E, end=\"\\n\"*2)\n",
        "print(E.shape)"
      ],
      "execution_count": null,
      "outputs": [
        {
          "output_type": "stream",
          "text": [
            "[[0.38843321 0.6977901  0.83894563 0.91541297 0.26804085]]\n",
            "\n",
            "(1, 5)\n"
          ],
          "name": "stdout"
        }
      ]
    },
    {
      "cell_type": "code",
      "metadata": {
        "colab": {
          "base_uri": "https://localhost:8080/"
        },
        "id": "uTHoN5MegPbH",
        "outputId": "f931adfa-1283-4752-ce4e-c3546b928b97"
      },
      "source": [
        "# Create a 5x1 array of normally distributed random values\n",
        "# with mean 0 and standard deviation 1\n",
        "F = np.random.normal(0, 1, (5, 1))\n",
        "print(F, end=\"\\n\"*2)\n",
        "print(F.shape)"
      ],
      "execution_count": null,
      "outputs": [
        {
          "output_type": "stream",
          "text": [
            "[[-0.6971148 ]\n",
            " [-1.17967902]\n",
            " [ 0.15376598]\n",
            " [-0.21381225]\n",
            " [ 0.04269065]]\n",
            "\n",
            "(5, 1)\n"
          ],
          "name": "stdout"
        }
      ]
    },
    {
      "cell_type": "markdown",
      "metadata": {
        "id": "omgUpW-88hLe"
      },
      "source": [
        "<hr>"
      ]
    },
    {
      "cell_type": "markdown",
      "metadata": {
        "id": "LyrIY3rBh9Dw"
      },
      "source": [
        "## 1.4\tMatrix Manipulation\n",
        "The following commands are useful for matrix/vector manipulations. You can transpose a matrix, flip the matrix from left to right or up and down, concatenate two matrices and so forth. Use the matrices defined above and run the following Python code\n",
        "\n"
      ]
    },
    {
      "cell_type": "code",
      "metadata": {
        "colab": {
          "base_uri": "https://localhost:8080/"
        },
        "id": "iLcXkXIch_-u",
        "outputId": "0d26ab77-f492-496b-c798-ff0f41cd6c68"
      },
      "source": [
        "# Transpose of a Matrix\n",
        "# The following all achieve the same computation\n",
        "\n",
        "print(\"Matrix A\")\n",
        "print(A ,end=\"\\n\"*2)\n",
        "\n",
        "print(\"Transpose A\")\n",
        "print(np.transpose(A) ,end=\"\\n\"*2)\n",
        "\n",
        "print(A.transpose(), end=\"\\n\"*2)\n",
        "\n",
        "print(A.T, end=\"\\n\"*2)"
      ],
      "execution_count": null,
      "outputs": [
        {
          "output_type": "stream",
          "text": [
            "Matrix A\n",
            "[[1 2 3]\n",
            " [4 5 6]\n",
            " [7 8 9]]\n",
            "\n",
            "Transpose A\n",
            "[[1 4 7]\n",
            " [2 5 8]\n",
            " [3 6 9]]\n",
            "\n",
            "[[1 4 7]\n",
            " [2 5 8]\n",
            " [3 6 9]]\n",
            "\n",
            "[[1 4 7]\n",
            " [2 5 8]\n",
            " [3 6 9]]\n",
            "\n"
          ],
          "name": "stdout"
        }
      ]
    },
    {
      "cell_type": "code",
      "metadata": {
        "colab": {
          "base_uri": "https://localhost:8080/"
        },
        "id": "IeGc1WlmisKx",
        "outputId": "7252b8fc-4b2a-4eda-f20e-33cdaf264c29"
      },
      "source": [
        "# Matrix left-right flip\n",
        "\n",
        "print(\"Matrix A\")\n",
        "print(A ,end=\"\\n\"*2)\n",
        "\n",
        "print(\"Left-Right flip of A\")\n",
        "print(np.fliplr(A))"
      ],
      "execution_count": null,
      "outputs": [
        {
          "output_type": "stream",
          "text": [
            "Matrix A\n",
            "[[1 2 3]\n",
            " [4 5 6]\n",
            " [7 8 9]]\n",
            "\n",
            "Left-Right flip of A\n",
            "[[3 2 1]\n",
            " [6 5 4]\n",
            " [9 8 7]]\n"
          ],
          "name": "stdout"
        }
      ]
    },
    {
      "cell_type": "code",
      "metadata": {
        "colab": {
          "base_uri": "https://localhost:8080/"
        },
        "id": "2LAouXrKkRVe",
        "outputId": "0aedd11d-357f-438a-f626-bf579e311872"
      },
      "source": [
        "# Matrix up-down flip\n",
        "\n",
        "print(\"Matrix A\")\n",
        "print(A ,end=\"\\n\"*2)\n",
        "\n",
        "print(\"Up-Down flip of A\")\n",
        "print(np.flipud(A))"
      ],
      "execution_count": null,
      "outputs": [
        {
          "output_type": "stream",
          "text": [
            "Matrix A\n",
            "[[1 2 3]\n",
            " [4 5 6]\n",
            " [7 8 9]]\n",
            "\n",
            "Up-Down flip of A\n",
            "[[7 8 9]\n",
            " [4 5 6]\n",
            " [1 2 3]]\n"
          ],
          "name": "stdout"
        }
      ]
    },
    {
      "cell_type": "code",
      "metadata": {
        "colab": {
          "base_uri": "https://localhost:8080/"
        },
        "id": "Y_jh_MTSk0vp",
        "outputId": "c3a08207-6f85-4240-a694-4cf0398b092f"
      },
      "source": [
        "# Concatenate Matrices A and D\n",
        "# Because of the Shape of the Matrices, you can only concatenate them horizontal (i,e along axis=1)\n",
        "\n",
        "print(\"shape of A:\", A.shape)\n",
        "print(\"shape of D:\", D.shape, end=\"\\n\"*2)\n",
        "\n",
        "print(np.hstack((A,D)))\n",
        "print(\"\\n\")\n",
        "print(np.concatenate((A,D), axis=1))"
      ],
      "execution_count": null,
      "outputs": [
        {
          "output_type": "stream",
          "text": [
            "shape of A: (3, 3)\n",
            "shape of D: (3, 2)\n",
            "\n",
            "[[1 2 3 0 0]\n",
            " [4 5 6 0 0]\n",
            " [7 8 9 0 0]]\n",
            "\n",
            "\n",
            "[[1 2 3 0 0]\n",
            " [4 5 6 0 0]\n",
            " [7 8 9 0 0]]\n"
          ],
          "name": "stdout"
        }
      ]
    },
    {
      "cell_type": "code",
      "metadata": {
        "colab": {
          "base_uri": "https://localhost:8080/"
        },
        "id": "EniyNz0WlW7Q",
        "outputId": "1d7fd384-f778-4e0f-ae67-ab35a66031c8"
      },
      "source": [
        "# Concatenate Matrices A and B\n",
        "# Because of the Shape of the Matrices, you can concatenate vertical( axis=0 ) or horizontal( axis=1 )\n",
        "# We are interesting in vertical Concatenation\n",
        "\n",
        "print(\"shape of A:\", A.shape)\n",
        "print(\"shape of B:\", B.shape, end=\"\\n\"*2)\n",
        "\n",
        "print(np.vstack((A,B)))\n",
        "print(\"\\n\")\n",
        "print(np.concatenate((A,B), axis=0))\n"
      ],
      "execution_count": null,
      "outputs": [
        {
          "output_type": "stream",
          "text": [
            "shape of A: (3, 3)\n",
            "shape of B: (3, 3)\n",
            "\n",
            "[[1 2 3]\n",
            " [4 5 6]\n",
            " [7 8 9]\n",
            " [1 0 0]\n",
            " [0 1 0]\n",
            " [0 0 1]]\n",
            "\n",
            "\n",
            "[[1 2 3]\n",
            " [4 5 6]\n",
            " [7 8 9]\n",
            " [1 0 0]\n",
            " [0 1 0]\n",
            " [0 0 1]]\n"
          ],
          "name": "stdout"
        }
      ]
    },
    {
      "cell_type": "markdown",
      "metadata": {
        "id": "tBlfLN7ooQmR"
      },
      "source": [
        "<hr>"
      ]
    },
    {
      "cell_type": "markdown",
      "metadata": {
        "id": "1PicScRxnFvu"
      },
      "source": [
        "## 1.5\tPlotting a Signal\n",
        "We will be using the Matplotlib ibrary to plot Signals. Matplotlib is a comprehensive library for creating static, animated, and interactive visualizations in Python.\n",
        "\n",
        "\n"
      ]
    },
    {
      "cell_type": "code",
      "metadata": {
        "id": "HeHbbR9HsQ-X"
      },
      "source": [
        "import numpy as np\n",
        "import matplotlib.pyplot as plt"
      ],
      "execution_count": null,
      "outputs": []
    },
    {
      "cell_type": "code",
      "metadata": {
        "id": "Czd6If13oJkS",
        "colab": {
          "base_uri": "https://localhost:8080/",
          "height": 367
        },
        "outputId": "8b181283-7a4f-4d19-fdc2-3fe421974a37"
      },
      "source": [
        "# We will be using the linspace function to generate evenly spaced points between a range.\n",
        "# run the command \"help(np.linspace)\" for more detailed information\n",
        "\n",
        "# Generate 100 evenly spaced points between 0 and 10\n",
        "t = np.linspace(0, 10, 100)\n",
        "\n",
        "# Create an array of the sin of every point in array t\n",
        "x = np.sin(t)\n",
        "\n",
        "# plot the graph of x against t\n",
        "plt.figure(figsize=(10,5))\n",
        "plt.xlabel('time(s)')\n",
        "plt.ylabel('amplitude')\n",
        "plt.title('Graph of Sin(t)')\n",
        "plt.plot(t, x, color='blue', marker='o' )"
      ],
      "execution_count": null,
      "outputs": [
        {
          "output_type": "execute_result",
          "data": {
            "text/plain": [
              "[<matplotlib.lines.Line2D at 0x7f53c44cb9e8>]"
            ]
          },
          "metadata": {
            "tags": []
          },
          "execution_count": 5
        },
        {
          "output_type": "display_data",
          "data": {
            "image/png": "[encoded data removed]",
            "text/plain": [
              "<Figure size 720x360 with 1 Axes>"
            ]
          },
          "metadata": {
            "tags": [],
            "needs_background": "light"
          }
        }
      ]
    },
    {
      "cell_type": "markdown",
      "metadata": {
        "id": "41GO-j4C9B94"
      },
      "source": [
        "<hr>"
      ]
    },
    {
      "cell_type": "markdown",
      "metadata": {
        "id": "PskEdyK9q83g"
      },
      "source": [
        "## 1.6 Plotting a discrete time signal\n",
        "\n"
      ]
    },
    {
      "cell_type": "code",
      "metadata": {
        "colab": {
          "base_uri": "https://localhost:8080/",
          "height": 421
        },
        "id": "5rphMBD9rH4e",
        "outputId": "3a4dca35-c718-49d7-e9c5-295b2fddc1bb"
      },
      "source": [
        "n = np.arange(0,20)\n",
        "x = np.cos(np.pi*n/3)\n",
        "\n",
        "# For a discrete-time signal, we usually use the stem function\n",
        "plt.figure(figsize=(10,5))\n",
        "plt.xlabel('time(s)')\n",
        "plt.ylabel('amplitude')\n",
        "plt.title('Discrete Time Signal')\n",
        "\n",
        "plt.stem(n,x,'red')"
      ],
      "execution_count": null,
      "outputs": [
        {
          "output_type": "stream",
          "text": [
            "/usr/local/lib/python3.6/dist-packages/ipykernel_launcher.py:10: UserWarning: In Matplotlib 3.3 individual lines on a stem plot will be added as a LineCollection instead of individual lines. This significantly improves the performance of a stem plot. To remove this warning and switch to the new behaviour, set the \"use_line_collection\" keyword argument to True.\n",
            "  # Remove the CWD from sys.path while we load stuff.\n"
          ],
          "name": "stderr"
        },
        {
          "output_type": "execute_result",
          "data": {
            "text/plain": [
              "<StemContainer object of 3 artists>"
            ]
          },
          "metadata": {
            "tags": []
          },
          "execution_count": 102
        },
        {
          "output_type": "display_data",
          "data": {
            "image/png": "[encoded data removed]",
            "text/plain": [
              "<Figure size 720x360 with 1 Axes>"
            ]
          },
          "metadata": {
            "tags": [],
            "needs_background": "light"
          }
        }
      ]
    },
    {
      "cell_type": "markdown",
      "metadata": {
        "id": "DZPYPNsatU2f"
      },
      "source": [
        "There are different ways to use Matplotlib to draw graphs. Another approach (class and Object method) to plot a graph is shown below.\n",
        "\n",
        "It’s a good practice to label the axes of your graphs using the xlabel, ylabel, and title commands. \n",
        "\n",
        "Here is full code snippet that draw a graph with appropriate scaling and labels\n",
        "\n",
        "For more reference to Matplotlib Customisation, Here is quick tutorial:\n",
        "\n",
        "https://www.earthdatascience.org/courses/scientists-guide-to-plotting-data-in-python/plot-with-matplotlib/introduction-to-matplotlib-plots/customize-plot-colors-labels-matplotlib/"
      ]
    },
    {
      "cell_type": "code",
      "metadata": {
        "colab": {
          "base_uri": "https://localhost:8080/",
          "height": 621
        },
        "id": "gWVSCVIqpz5v",
        "outputId": "e5c105b5-4ff3-480f-d908-6fbf691c6b84"
      },
      "source": [
        "import matplotlib.pyplot as plt\n",
        "\n",
        "# Define the Data\n",
        "t = np.linspace(0, 10, 100)\n",
        "x = np.sin(t)\n",
        "\n",
        "# Initialize the Objects needed to plot the Graph\n",
        "fig, ax = plt.subplots(figsize=(12, 10))\n",
        "\n",
        "# Set plot title and axes labels\n",
        "ax.set(title = \"Sinusodial Sine Wave\",\n",
        "       xlabel = \"time in secs\",\n",
        "       ylabel = \"sin(t)\")\n",
        "\n",
        "# Define x and y axes and plot\n",
        "ax.plot(t, x, color='red', marker = 'o', label='sine wave')\n",
        "ax.legend() # shows the legend of the graph, it reflects the 'label' keyword argument in the plot function above\n",
        "ax.grid(True) # shows the grid, default is False\n",
        "\n",
        "\n",
        "\n",
        "# needed to explicitly show the graph (optional in an ipython notebook environment)\n",
        "plt.show()"
      ],
      "execution_count": null,
      "outputs": [
        {
          "output_type": "display_data",
          "data": {
            "image/png": "[encoded data removed]",
            "text/plain": [
              "<Figure size 864x720 with 1 Axes>"
            ]
          },
          "metadata": {
            "tags": [],
            "needs_background": "light"
          }
        }
      ]
    },
    {
      "cell_type": "markdown",
      "metadata": {
        "id": "zXHC19ij9Hyn"
      },
      "source": [
        "<hr>"
      ]
    },
    {
      "cell_type": "markdown",
      "metadata": {
        "id": "bWGCQkGcr6Js"
      },
      "source": [
        "## Excercise\n",
        "Generate a full labelled graph for the Discrete Time Signal in the previous section"
      ]
    },
    {
      "cell_type": "code",
      "metadata": {
        "id": "fPitgfwuB1NF"
      },
      "source": [
        "# insert code here\n",
        "\n"
      ],
      "execution_count": null,
      "outputs": []
    },
    {
      "cell_type": "markdown",
      "metadata": {
        "id": "8hro6Hfq-O53"
      },
      "source": [
        "<hr>"
      ]
    },
    {
      "cell_type": "markdown",
      "metadata": {
        "id": "soErR6alwvFa"
      },
      "source": [
        "## Checkpoint: Matrix Computation"
      ]
    },
    {
      "cell_type": "code",
      "metadata": {
        "colab": {
          "base_uri": "https://localhost:8080/"
        },
        "id": "02bS3Vefwykm",
        "outputId": "05763c64-6a8a-4e42-8d99-d76d856798a5"
      },
      "source": [
        "# let us define an even spaced vector A below\n",
        "A = np.array(([1,2],[4,5]))\n",
        "print(A, end=\"\\n\"*2)\n",
        "\n",
        "\n",
        "#  We can find the element-wise multiplication of the Matrix by itself\n",
        "# The following lines will give the same output\n",
        "B = A * A \n",
        "B = np.multiply(A, A)\n",
        "print(B, end=\"\\n\"*2)\n",
        "\n",
        "#  We can find the element-wise multiplication of the Matrix by itself\n",
        "# The following lines will give the same output\n",
        "C = A @ A\n",
        "C = np.matmul(A,A)\n",
        "print(C, end=\"\\n\"*2)\n",
        "\n",
        "\n",
        "# we can convert A to a logical Array as follows:\n",
        "D = A > 2\n",
        "print(D)\n",
        "\n",
        "# we can convert it to a logical Array of ones and zeros:\n",
        "\n",
        "D = D * 1\n",
        "D = np.array(D)\n",
        "print(D)"
      ],
      "execution_count": null,
      "outputs": [
        {
          "output_type": "stream",
          "text": [
            "[[1 2]\n",
            " [4 5]]\n",
            "\n",
            "[[ 1  4]\n",
            " [16 25]]\n",
            "\n",
            "[[ 9 12]\n",
            " [24 33]]\n",
            "\n",
            "[[False False]\n",
            " [ True  True]]\n",
            "[[0 0]\n",
            " [1 1]]\n"
          ],
          "name": "stdout"
        }
      ]
    },
    {
      "cell_type": "markdown",
      "metadata": {
        "id": "gfaaTh1E9OxC"
      },
      "source": [
        "<hr>"
      ]
    },
    {
      "cell_type": "markdown",
      "metadata": {
        "id": "h6CTnGe-znZF"
      },
      "source": [
        "## Example1: Plot Unit Step Function\n"
      ]
    },
    {
      "cell_type": "code",
      "metadata": {
        "colab": {
          "base_uri": "https://localhost:8080/",
          "height": 638
        },
        "id": "NrFB887C6UMf",
        "outputId": "eeeba7d2-5b80-47b4-d29d-f1b518c3d3a2"
      },
      "source": [
        "# Initialize data\n",
        "t = np.arange(-1, 1, 0.01) # see also ==> t = np.linspace(-1, 1, 200)\n",
        "r = t * (t>0)\n",
        "u = np.ones(t.shape) * (t>0)\n",
        "\n",
        "# Initialize Graph\n",
        "fig, ax = plt.subplots(nrows=2, ncols=1, figsize=(12,10))\n",
        "\n",
        "# Set plot title and axes labels for sub-plot 1\n",
        "ax[0].set(title = \"Unit Ramp\",\n",
        "       xlabel = \"t\",\n",
        "       ylabel = \"r(t)\")\n",
        "ax[0].grid(True)\n",
        "ax[0].plot(t, r, color='green')\n",
        "\n",
        "# Set plot title and axes labels for sub-plot 2\n",
        "ax[1].set(title = \"Unit Step\",\n",
        "       xlabel = \"t\",\n",
        "       ylabel = \"u(t)\")\n",
        "ax[1].grid(True)\n",
        "ax[1].plot(t, u, color='blue')"
      ],
      "execution_count": null,
      "outputs": [
        {
          "output_type": "execute_result",
          "data": {
            "text/plain": [
              "[<matplotlib.lines.Line2D at 0x7f556cbf4080>]"
            ]
          },
          "metadata": {
            "tags": []
          },
          "execution_count": 111
        },
        {
          "output_type": "display_data",
          "data": {
            "image/png": "[encoded data removed]",
            "text/plain": [
              "<Figure size 864x720 with 2 Axes>"
            ]
          },
          "metadata": {
            "tags": [],
            "needs_background": "light"
          }
        }
      ]
    },
    {
      "cell_type": "markdown",
      "metadata": {
        "id": "UamSlHSV9RSd"
      },
      "source": [
        "<hr>"
      ]
    },
    {
      "cell_type": "markdown",
      "metadata": {
        "id": "V6nWysmf7R-Q"
      },
      "source": [
        "## Example 2: Plotting a Sinusoidal Waveform \n"
      ]
    },
    {
      "cell_type": "code",
      "metadata": {
        "colab": {
          "base_uri": "https://localhost:8080/",
          "height": 530
        },
        "id": "QTXgEf_w6Ijx",
        "outputId": "952233c2-d3d7-492d-cf53-13f3bb6cc37f"
      },
      "source": [
        "import numpy as np\n",
        "import matplotlib.pyplot as plt\n",
        "\n",
        "# Define the Amplitude\n",
        "A = 2\n",
        "\n",
        "# Define the Frequency in Hertz\n",
        "w = np.pi\n",
        "\n",
        "# Define the Phase shift\n",
        "phase = np.pi / 6\n",
        "\n",
        "# Define the Time vector\n",
        "t = np.arange(-1, 5, 0.01)\n",
        "\n",
        "# Compute y(t), the sine wave\n",
        "x = A * np.sin(w*t + phase)\n",
        "\n",
        "# Plot the graph\n",
        "fig, ax = plt.subplots(figsize=(10,8))\n",
        "ax.set(title='Plot of x(t) = 2*sin(pi*t+pi/6)',\n",
        "       xlabel='t(secs)',\n",
        "       ylabel='x(t)')\n",
        "ax.grid(True)\n",
        "ax.plot(t,x)"
      ],
      "execution_count": null,
      "outputs": [
        {
          "output_type": "execute_result",
          "data": {
            "text/plain": [
              "[<matplotlib.lines.Line2D at 0x7f5017103b00>]"
            ]
          },
          "metadata": {
            "tags": []
          },
          "execution_count": 12
        },
        {
          "output_type": "display_data",
          "data": {
            "image/png": "[encoded data removed]",
            "text/plain": [
              "<Figure size 720x576 with 1 Axes>"
            ]
          },
          "metadata": {
            "tags": [],
            "needs_background": "light"
          }
        }
      ]
    },
    {
      "cell_type": "markdown",
      "metadata": {
        "id": "21sRgYPH9fhB"
      },
      "source": [
        "<hr>"
      ]
    },
    {
      "cell_type": "markdown",
      "metadata": {
        "id": "mfCmqiEY7VMX"
      },
      "source": [
        "# Example 3: Illustration of  Fourier transform of a Periodic Signal\n",
        "The following code snippet will plot the Fourier Transform of a periodic signal\n"
      ]
    },
    {
      "cell_type": "code",
      "metadata": {
        "colab": {
          "base_uri": "https://localhost:8080/",
          "height": 638
        },
        "id": "4JE7RSaR9THH",
        "outputId": "67977b08-a9fb-4976-eacc-4b146a3b15f6"
      },
      "source": [
        "import numpy as np\n",
        "import matplotlib.pyplot as plt\n",
        "import scipy\n",
        "\n",
        "# Time axis : Sample period is 0.5 milliseconds\n",
        "t = np.arange(0, 1.2, 0.0005)\n",
        "\n",
        "# The sum of three sinusoidal signals at 100, 300 and 500 Hz\n",
        "# y = 0.5*np.sin(2*np.pi*100*t)+0.3*np.sin(2*np.pi*300*t)+0.5*np.cos(2*np.pi*500*t)\n",
        "\n",
        "# The  sinusoidal signal at 100 Hz\n",
        "y = 0.5*np.sin(2*np.pi*100*t)\n",
        "\n",
        "fig, ax = plt.subplots(nrows=2, ncols=1, figsize=(12,10))\n",
        "ax[0].grid(True)\n",
        "ax[0].set(title='Signal', xlabel='time (milliseconds)', ylabel='Amplitude')\n",
        "ax[0].plot(1000*t[:100], y[:100])\n",
        "\n",
        "\n",
        "# Discrete Fourier transform (via the Fast Fourier Transform)\n",
        "Y = scipy.fft.fft(y,2048)\n",
        "\n",
        "# Compute the amplitude of the spectrum and center it\n",
        "S = np.abs(scipy.fft.fftshift(Y[:2048]))\n",
        "f = 2000*(np.arange(2048)-1023)/2048\n",
        "\n",
        "ax[1].set(title='Frequency Spectrum', xlabel='(frequency(Hz))', ylabel='Magnitude')\n",
        "ax[1].plot(f,S)"
      ],
      "execution_count": null,
      "outputs": [
        {
          "output_type": "execute_result",
          "data": {
            "text/plain": [
              "[<matplotlib.lines.Line2D at 0x7f557dd37a58>]"
            ]
          },
          "metadata": {
            "tags": []
          },
          "execution_count": 60
        },
        {
          "output_type": "display_data",
          "data": {
            "image/png": "[encoded data removed]",
            "text/plain": [
              "<Figure size 864x720 with 2 Axes>"
            ]
          },
          "metadata": {
            "tags": [],
            "needs_background": "light"
          }
        }
      ]
    },
    {
      "cell_type": "markdown",
      "metadata": {
        "id": "Mldo4Wb8B53Y"
      },
      "source": [
        "<hr>"
      ]
    },
    {
      "cell_type": "markdown",
      "metadata": {
        "id": "tqmK_IM_P0Xr"
      },
      "source": [
        "# Questions"
      ]
    },
    {
      "cell_type": "code",
      "metadata": {
        "id": "RC6KX8X1VxZi"
      },
      "source": [
        "import numpy as np\n",
        "import matplotlib.pyplot as plt\n",
        "import scipy"
      ],
      "execution_count": null,
      "outputs": []
    },
    {
      "cell_type": "markdown",
      "metadata": {
        "id": "NVaJKzxmP9Gs"
      },
      "source": [
        "## Q1\n",
        "Create a vector of the even whole numbers between 5 and 35."
      ]
    },
    {
      "cell_type": "code",
      "metadata": {
        "id": "R-eScnksQJKt",
        "colab": {
          "base_uri": "https://localhost:8080/"
        },
        "outputId": "9740069d-5bb0-4b14-cc49-400aea3f39d9"
      },
      "source": [
        "# insert code here\n",
        "import numpy as np\n",
        "x=np.arange(6,36,2)\n",
        "x=np.array(x)\n",
        "print(x)\n",
        "print(x.shape)\n",
        "\n"
      ],
      "execution_count": 32,
      "outputs": [
        {
          "output_type": "stream",
          "name": "stdout",
          "text": [
            "[ 6  8 10 12 14 16 18 20 22 24 26 28 30 32 34]\n",
            "(15,)\n"
          ]
        }
      ]
    },
    {
      "cell_type": "markdown",
      "metadata": {
        "id": "CwxL995AQRHr"
      },
      "source": [
        "## Q2\n",
        "\n",
        "```\n",
        "Assume x = [2, 5, 1, 6]\n",
        "\n",
        "```\n",
        "Convert X to a vector and:\n",
        "\n",
        "1. Add 16 to each element\n",
        "2. Add 3 to just the odd-index elements\n",
        "3. Compute the square root of each element\n",
        "4. Compute the square of each element"
      ]
    },
    {
      "cell_type": "code",
      "metadata": {
        "id": "buwhGSM4QRH6",
        "colab": {
          "base_uri": "https://localhost:8080/"
        },
        "outputId": "cd2dfddc-d44f-4de2-9b9b-4d9e9a3dee28"
      },
      "source": [
        "# insert code here\n",
        "import numpy as np\n",
        "X = (2,5,1,6)\n",
        "X=np.array(X)\n",
        "x2= X+16\n",
        "print(x2)\n",
        "print(x2.shape) \n",
        "\n",
        "\n"
      ],
      "execution_count": 10,
      "outputs": [
        {
          "output_type": "stream",
          "name": "stdout",
          "text": [
            "[18 21 17 22]\n",
            "(4,)\n"
          ]
        }
      ]
    },
    {
      "cell_type": "markdown",
      "metadata": {
        "id": "xglai8d0QRhx"
      },
      "source": [
        "## Q3\n",
        "Write the code to draw the graph for the following function. Name the graph and axes\n",
        "\n",
        "$$ y = \\frac{\\sin x}{ x} \\ \\ for \\ 0\\leq x \\leq10 $$\n"
      ]
    },
    {
      "cell_type": "code",
      "metadata": {
        "id": "diqNjH6ZQRhx",
        "colab": {
          "base_uri": "https://localhost:8080/",
          "height": 329
        },
        "outputId": "3fe326b1-1c56-4da0-c2a5-75eee8808009"
      },
      "source": [
        "# Graph of Sin(x/x)\n",
        "import numpy as np\n",
        "import matplotlib.pyplot as plt\n",
        "# plot graph of y = Sin(x)/x function\n",
        "x = np.linspace(0,10,100)\n",
        "y = np.sin(x)/x\n",
        "#plot the graph of y against x\n",
        "plt.plot(x,y)\n",
        "plt.xlabel('time(s)') \n",
        "plt.ylabel('amplitude')\n",
        "plt.title('Graph of Sin(x)/x')\n",
        "plt.legend(['sin(x)/x'])\n",
        "plt.show()\n"
      ],
      "execution_count": 52,
      "outputs": [
        {
          "output_type": "stream",
          "name": "stderr",
          "text": [
            "/usr/local/lib/python3.7/dist-packages/ipykernel_launcher.py:6: RuntimeWarning: invalid value encountered in true_divide\n",
            "  \n"
          ]
        },
        {
          "output_type": "display_data",
          "data": {
            "text/plain": [
              "<Figure size 432x288 with 1 Axes>"
            ],
            "image/png": "[encoded data removed]"
          },
          "metadata": {
            "needs_background": "light"
          }
        }
      ]
    },
    {
      "cell_type": "markdown",
      "metadata": {
        "id": "CZi9kgVhQRs1"
      },
      "source": [
        "## Q4\n",
        "Create and plot a sinusoidal waveform consisting of sum of three signals of 100, 300 and 500 Hz. \n",
        "\n",
        "What is the bandwidth of the signal. Hint: draw the FFT of the signal and explain the output. \n",
        "\n",
        "Choose proper title, label, and legend for your figures. Do not forget to comment your code."
      ]
    },
    {
      "cell_type": "code",
      "metadata": {
        "id": "pXwQig_0QRs1"
      },
      "source": [
        "# insert code here\n",
        "\n"
      ],
      "execution_count": null,
      "outputs": []
    },
    {
      "cell_type": "markdown",
      "metadata": {
        "id": "HOQj0MKRQR4S"
      },
      "source": [
        "## Q5\n",
        "Create and plot a square waveform. \n",
        "\n",
        "Set the pulse's length to 1, 1/2, and 1/4 second. \n",
        "\n",
        "Choose proper title, label, and legend for your figures. Do not forget to comment your code."
      ]
    },
    {
      "cell_type": "code",
      "metadata": {
        "id": "OG4I6GECQR4T"
      },
      "source": [
        "# insert code here\n",
        "\n"
      ],
      "execution_count": null,
      "outputs": []
    },
    {
      "cell_type": "markdown",
      "metadata": {
        "id": "Qs99kudEQSCG"
      },
      "source": [
        "## Q6\n",
        "Multiply the square pulse produced in the 5th question with the sine wave in the 4th question. \n",
        "\n",
        "Plot the result. Choose proper title, label, and legend for your figures. Do not forget to comment your code."
      ]
    },
    {
      "cell_type": "code",
      "metadata": {
        "id": "otrvsMaTQSCH"
      },
      "source": [
        "# insert code here\n",
        "\n"
      ],
      "execution_count": null,
      "outputs": []
    },
    {
      "cell_type": "markdown",
      "metadata": {
        "id": "hpF5IluETOqs"
      },
      "source": [
        "## Q7\n",
        "Find proper functions in NUMPY or SCIPY libraries for generating the following waveforms. Write some code to sketch them as periodic and aperiodic signals.\n",
        "\n",
        "* Rectangular wave\n",
        "* Triangular wave\n",
        "* Square wave\n",
        "* Impulse\n",
        "* Sawtooth wave\n",
        "* Sinc\n",
        "* Pulse train"
      ]
    },
    {
      "cell_type": "code",
      "metadata": {
        "id": "JYdFDT35TOq9"
      },
      "source": [
        "# insert code here\n",
        "\n"
      ],
      "execution_count": null,
      "outputs": []
    }
  ]
}